{
 "cells": [
  {
   "cell_type": "markdown",
   "id": "c0c4e5b7-e48a-4917-a34a-009f01d693ca",
   "metadata": {},
   "source": [
    "# 任务1：将原始数据存入数据仓库的ODS层"
   ]
  },
  {
   "cell_type": "markdown",
   "id": "4a914da9-c1b7-48ed-a6c8-14dadf1c2489",
   "metadata": {},
   "source": [
    "### 开始前通过start-all.cmd启动Hadoop集群，通过hive.cmd打开Hive"
   ]
  },
  {
   "cell_type": "code",
   "execution_count": 1,
   "id": "41c544a8-26ed-48a2-b58d-5dd376276bba",
   "metadata": {},
   "outputs": [],
   "source": [
    "from pyspark.sql import SparkSession\n",
    "spark = SparkSession.builder.enableHiveSupport().getOrCreate()"
   ]
  },
  {
   "cell_type": "code",
   "execution_count": 2,
   "id": "c3818b0a-fc0f-49bf-a6d9-70a6623d7315",
   "metadata": {},
   "outputs": [
    {
     "data": {
      "text/plain": [
       "DataFrame[]"
      ]
     },
     "execution_count": 2,
     "metadata": {},
     "output_type": "execute_result"
    }
   ],
   "source": [
    "spark.sql('drop database if exists ODS cascade;')"
   ]
  },
  {
   "cell_type": "code",
   "execution_count": 3,
   "id": "769d454b-9780-4cf5-9ef0-57ed2c43a135",
   "metadata": {},
   "outputs": [
    {
     "name": "stdout",
     "output_type": "stream",
     "text": [
      "+---------+\n",
      "|namespace|\n",
      "+---------+\n",
      "|  default|\n",
      "|      dwd|\n",
      "|      dws|\n",
      "|      ods|\n",
      "+---------+\n",
      "\n"
     ]
    }
   ],
   "source": [
    "#创建ODS数据层\n",
    "spark.sql('create database if not exists ODS;')\n",
    "spark.sql('show databases;').show()"
   ]
  },
  {
   "cell_type": "code",
   "execution_count": 4,
   "id": "1ac38a6d-342d-4bb4-81cd-638f161f45c8",
   "metadata": {},
   "outputs": [
    {
     "data": {
      "text/plain": [
       "DataFrame[terminal_no: bigint, phone_no: int, duration: int, station_name: string, origin_time: string, end_time: string, owner_code: string, owner_name: string, vod_cat_tags: string, resolution: string, audio_lang: string, region: string, res_name: string, res_type: int, vod_title: string, category_name: string, program_title: string, sm_name: string]"
      ]
     },
     "execution_count": 4,
     "metadata": {},
     "output_type": "execute_result"
    }
   ],
   "source": [
    "media_index = spark.read.format('csv').option('inferSchema','true').option('header','true').option('sep',';').load('D:\\DataMiningProject\\Project-01\\data\\media_index.csv')\n",
    "mediamatch_userevent = spark.read.format('csv').option('inferSchema','true').option('header','true').option('sep',';').load('D:\\DataMiningProject\\Project-01\\data\\mediamatch_userevent.csv')\n",
    "mediamatch_usermsg = spark.read.format('csv').option('inferSchema','true').option('header','true').option('sep',';').load('D:\\DataMiningProject\\Project-01\\data\\mediamatch_usermsg.csv')\n",
    "mmconsume_billevents = spark.read.format('csv').option('inferSchema','true').option('header','true').option('sep',';').load('D:\\DataMiningProject\\Project-01\\data\\mmconsume_billevents.csv')\n",
    "order_index = spark.read.format('csv').option('inferSchema','true').option('header','true').option('sep',';').load('D:\\DataMiningProject\\Project-01\\data\\order_index.csv')\n",
    "media_index"
   ]
  },
  {
   "cell_type": "code",
   "execution_count": 5,
   "id": "dceae190-2503-4e21-b408-0eb6a2ce2098",
   "metadata": {},
   "outputs": [],
   "source": [
    "media_index.write.mode('overwrite').saveAsTable('ODS.media_index')\n",
    "mediamatch_userevent.write.mode('overwrite').saveAsTable('ODS.mediamatch_userevent')\n",
    "mediamatch_usermsg.write.mode('overwrite').saveAsTable('ODS.mediamatch_usermsg')\n",
    "mmconsume_billevents.write.mode('overwrite').saveAsTable('ODS.mmconsume_billevents')\n",
    "order_index.write.mode('overwrite').saveAsTable('ODS.order_index')"
   ]
  },
  {
   "cell_type": "code",
   "execution_count": 6,
   "id": "6d819b04-51e7-4b2b-b023-010a37353da8",
   "metadata": {},
   "outputs": [
    {
     "name": "stdout",
     "output_type": "stream",
     "text": [
      "+---------+--------------------+-----------+\n",
      "|namespace|           tableName|isTemporary|\n",
      "+---------+--------------------+-----------+\n",
      "|      ods|         media_index|      false|\n",
      "|      ods|mediamatch_userevent|      false|\n",
      "|      ods|  mediamatch_usermsg|      false|\n",
      "|      ods|mmconsume_billevents|      false|\n",
      "|      ods|         order_index|      false|\n",
      "+---------+--------------------+-----------+\n",
      "\n"
     ]
    }
   ],
   "source": [
    "#使用sql脚本在database内创建table\n",
    "spark.sql('use ODS;')\n",
    "spark.sql('show tables;').show()"
   ]
  },
  {
   "cell_type": "code",
   "execution_count": 7,
   "id": "5399aba1-d5a9-4ab6-8d74-2308fcfec240",
   "metadata": {
    "scrolled": true
   },
   "outputs": [
    {
     "name": "stdout",
     "output_type": "stream",
     "text": [
      "+--------+\n",
      "|count(1)|\n",
      "+--------+\n",
      "|  119229|\n",
      "+--------+\n",
      "\n",
      "+--------+\n",
      "|count(1)|\n",
      "+--------+\n",
      "|     447|\n",
      "+--------+\n",
      "\n",
      "+--------+\n",
      "|count(1)|\n",
      "+--------+\n",
      "|   14481|\n",
      "+--------+\n",
      "\n",
      "+--------+\n",
      "|count(1)|\n",
      "+--------+\n",
      "|    5368|\n",
      "+--------+\n",
      "\n",
      "+--------+\n",
      "|count(1)|\n",
      "+--------+\n",
      "|    9938|\n",
      "+--------+\n",
      "\n",
      "+-----------+--------+--------+------------+---------------+---------------+----------+----------+------------+----------+----------+------+--------+--------+---------+-------------+-------------+--------+\n",
      "|terminal_no|phone_no|duration|station_name|origin_time    |end_time       |owner_code|owner_name|vod_cat_tags|resolution|audio_lang|region|res_name|res_type|vod_title|category_name|program_title|sm_name |\n",
      "+-----------+--------+--------+------------+---------------+---------------+----------+----------+------------+----------+----------+------+--------+--------+---------+-------------+-------------+--------+\n",
      "|1900029957 |2020273 |1553000 |中央2台-高清|2018/5/17 7:59 |2018/5/17 8:25 |0         |HC级      |NULL        |NULL      |NULL      |NULL  |NULL    |0       |NULL     |NULL         |第一时间1    |互动电视|\n",
      "|1100106842 |2030551 |52000   |中央2台-高清|2018/5/19 22:03|2018/5/19 22:03|0         |HC级      |NULL        |NULL      |NULL      |NULL  |NULL    |0       |NULL     |NULL         |深度财经     |互动电视|\n",
      "|1300179275 |2006073 |24000   |中央2台-高清|2018/5/15 8:58 |2018/5/15 8:59 |0         |HC级      |NULL        |NULL      |NULL      |NULL  |NULL    |0       |NULL     |NULL         |第一时间1    |互动电视|\n",
      "|1900142741 |2038733 |60000   |中央2台-高清|2018/5/25 14:59|2018/5/25 15:00|0         |HC级      |NULL        |NULL      |NULL      |NULL  |NULL    |0       |NULL     |NULL         |交易时间2    |互动电视|\n",
      "|1100106842 |2030551 |43000   |中央2台-高清|2018/5/26 22:29|2018/5/26 22:29|0         |HC级      |NULL        |NULL      |NULL      |NULL  |NULL    |0       |NULL     |NULL         |深度财经     |互动电视|\n",
      "+-----------+--------+--------+------------+---------------+---------------+----------+----------+------------+----------+----------+------+--------+--------+---------+-------------+-------------+--------+\n",
      "only showing top 5 rows\n",
      "\n"
     ]
    }
   ],
   "source": [
    "#查看各table数据总量\n",
    "spark.sql('select count(*) from media_index;').show()\n",
    "spark.sql('select count(*) from mediamatch_userevent;').show()\n",
    "spark.sql('select count(*) from mediamatch_usermsg;').show()\n",
    "spark.sql('select count(*) from mmconsume_billevents;').show()\n",
    "spark.sql('select count(*) from order_index;').show()\n",
    "\n",
    "#读取mediamatch_usermsg前5条数据\n",
    "spark.sql('select * from media_index').show(5,False)"
   ]
  },
  {
   "cell_type": "markdown",
   "id": "df4bfba9-4248-4388-853b-02aa76946525",
   "metadata": {},
   "source": [
    "# 任务2 对数据进行清洗并将结果储存至DWD层"
   ]
  },
  {
   "cell_type": "code",
   "execution_count": 8,
   "id": "1862cf09-d728-483a-aab1-1ff41e4f4be2",
   "metadata": {},
   "outputs": [],
   "source": [
    "#读取ODS数据\n",
    "media_index = spark.read.table('ODS.media_index')\n",
    "mediamatch_userevent = spark.read.table('ODS.mediamatch_userevent')\n",
    "mediamatch_usermsg = spark.read.table('ODS.mediamatch_usermsg')\n",
    "mmconsume_billevents = spark.read.table('ODS.mmconsume_billevents')\n",
    "order_index = spark.read.table('ODS.order_index')"
   ]
  },
  {
   "cell_type": "markdown",
   "id": "ee923768-79dd-437f-87e8-0c366e0cbf0c",
   "metadata": {},
   "source": [
    "## 2.1 筛选主要研究对象"
   ]
  },
  {
   "cell_type": "code",
   "execution_count": 9,
   "id": "c2648735-f3e4-4feb-9928-09f88afc1c6a",
   "metadata": {
    "scrolled": true
   },
   "outputs": [
    {
     "name": "stdout",
     "output_type": "stream",
     "text": [
      "+----------+------+\n",
      "|owner_name| count|\n",
      "+----------+------+\n",
      "|      HC级|109971|\n",
      "|      EE级|   455|\n",
      "|      HE级|  8803|\n",
      "+----------+------+\n",
      "\n",
      "+----------+------+\n",
      "|owner_code| count|\n",
      "+----------+------+\n",
      "|         0|111350|\n",
      "|      NULL|  7879|\n",
      "+----------+------+\n",
      "\n",
      "+----------+-----+\n",
      "|owner_name|count|\n",
      "+----------+-----+\n",
      "|      EA级|    1|\n",
      "|      HC级|  418|\n",
      "|      EE级|   28|\n",
      "+----------+-----+\n",
      "\n",
      "+----------+-----+\n",
      "|owner_code|count|\n",
      "+----------+-----+\n",
      "|         0|  438|\n",
      "|         5|    1|\n",
      "|         2|    1|\n",
      "|      NULL|    7|\n",
      "+----------+-----+\n",
      "\n",
      "+----------+-----+\n",
      "|owner_name|count|\n",
      "+----------+-----+\n",
      "|      EA级|   15|\n",
      "|      HC级|13592|\n",
      "|      HA级|   11|\n",
      "|      EE级|  840|\n",
      "|      HB级|    7|\n",
      "|      EB级|   16|\n",
      "+----------+-----+\n",
      "\n",
      "+----------+-----+\n",
      "|owner_code|count|\n",
      "+----------+-----+\n",
      "|      null|  288|\n",
      "|         6|    8|\n",
      "|         5|   48|\n",
      "|        15|   10|\n",
      "|         8|    1|\n",
      "|         7|    3|\n",
      "|         2|   18|\n",
      "|         0|14105|\n",
      "+----------+-----+\n",
      "\n",
      "+----------+-----+\n",
      "|owner_name|count|\n",
      "+----------+-----+\n",
      "|      HC级| 4004|\n",
      "|      EE级|  161|\n",
      "|      HE级| 1203|\n",
      "+----------+-----+\n",
      "\n",
      "+----------+-----+\n",
      "|owner_code|count|\n",
      "+----------+-----+\n",
      "|         0| 4298|\n",
      "|         5|   38|\n",
      "|         6|    6|\n",
      "|      NULL| 1026|\n",
      "+----------+-----+\n",
      "\n",
      "+----------+-----+\n",
      "|owner_name|count|\n",
      "+----------+-----+\n",
      "|      HC级| 3386|\n",
      "|      EE级|  530|\n",
      "|      HE级| 5598|\n",
      "|      EB级|    4|\n",
      "|      NULL|  420|\n",
      "+----------+-----+\n",
      "\n",
      "+----------+-----+\n",
      "|owner_code|count|\n",
      "+----------+-----+\n",
      "|         0| 3368|\n",
      "|         5|   42|\n",
      "|         6|    3|\n",
      "|      NULL| 6525|\n",
      "+----------+-----+\n",
      "\n"
     ]
    }
   ],
   "source": [
    "#查看‘owner_name’和‘owner_code’字段\n",
    "media_index.groupBy('owner_name').count().show()\n",
    "media_index.groupBy('owner_code').count().show()\n",
    "mediamatch_userevent.groupBy('owner_name').count().show()\n",
    "mediamatch_userevent.groupBy('owner_code').count().show()\n",
    "mediamatch_usermsg.groupBy('owner_name').count().show()\n",
    "mediamatch_usermsg.groupBy('owner_code').count().show()\n",
    "mmconsume_billevents.groupBy('owner_name').count().show()\n",
    "mmconsume_billevents.groupBy('owner_code').count().show()\n",
    "order_index.groupBy('owner_name').count().show()\n",
    "order_index.groupBy('owner_code').count().show()"
   ]
  },
  {
   "cell_type": "markdown",
   "id": "cd5beefc-add2-4342-a1a5-5f69489932bd",
   "metadata": {},
   "source": [
    "#### 需要过滤的数据如下：\n",
    "#### owner_name='EA','EB',\"EC\".'ED','EE';\n",
    "#### owner_code=02,09,10\n",
    "#### 用table_name1表示滤除操作的结果，注意研究对象需要去重"
   ]
  },
  {
   "cell_type": "code",
   "execution_count": 10,
   "id": "aeaffa62-220a-445d-94eb-e9511421e3ba",
   "metadata": {},
   "outputs": [],
   "source": [
    "#根据要求对数据进行筛选\n",
    "media_index1 = media_index.distinct().filter(\"owner_name != 'EA级' and owner_name != 'EB级' and owner_name != 'EC级' and owner_name != 'ED级' and owner_name != 'EE级' and owner_code != '2' and owner_code != '9' and owner_code != '10' \")\n",
    "mediamatch_userevent1 = mediamatch_userevent.distinct().filter(\"owner_name != 'EA级' and owner_name != 'EB级' and owner_name != 'EC级' and owner_name != 'ED级' and owner_name != 'EE级' and owner_code != '2' and owner_code != '9' and owner_code != '10' \")\n",
    "mediamatch_usermsg1 = mediamatch_usermsg.distinct().filter(\"owner_name != 'EA级' and owner_name != 'EB级' and owner_name != 'EC级' and owner_name != 'ED级' and owner_name != 'EE级' and owner_code != '2' and owner_code != '9' and owner_code != '10' \")\n",
    "mmconsume_billevents1 = mmconsume_billevents.distinct().filter(\"owner_name != 'EA级' and owner_name != 'EB级' and owner_name != 'EC级' and owner_name != 'ED级' and owner_name != 'EE级' and owner_code != '2' and owner_code != '9' and owner_code != '10' \")\n",
    "order_index1 = order_index.distinct().filter(\"owner_name != 'EA级' and owner_name != 'EB级' and owner_name != 'EC级' and owner_name != 'ED级' and owner_name != 'EE级' and owner_code != '2' and owner_code != '9' and owner_code != '10' \")"
   ]
  },
  {
   "cell_type": "code",
   "execution_count": 11,
   "id": "66c6e59b-24e9-4859-b794-7ac10a8eb0be",
   "metadata": {
    "scrolled": true
   },
   "outputs": [
    {
     "name": "stdout",
     "output_type": "stream",
     "text": [
      "+----------+-----+\n",
      "|owner_name|count|\n",
      "+----------+-----+\n",
      "|      HC级|63411|\n",
      "|      HE级| 4947|\n",
      "+----------+-----+\n",
      "\n",
      "+----------+-----+\n",
      "|owner_code|count|\n",
      "+----------+-----+\n",
      "|         0|63923|\n",
      "|      NULL| 4435|\n",
      "+----------+-----+\n",
      "\n",
      "+----------+-----+\n",
      "|owner_name|count|\n",
      "+----------+-----+\n",
      "|      HC级|  408|\n",
      "+----------+-----+\n",
      "\n",
      "+----------+-----+\n",
      "|owner_code|count|\n",
      "+----------+-----+\n",
      "|         0|  400|\n",
      "|         5|    1|\n",
      "|      NULL|    7|\n",
      "+----------+-----+\n",
      "\n",
      "+----------+-----+\n",
      "|owner_name|count|\n",
      "+----------+-----+\n",
      "|      HC级|13301|\n",
      "|      HA级|   11|\n",
      "|      HB级|    7|\n",
      "+----------+-----+\n",
      "\n",
      "+----------+-----+\n",
      "|owner_code|count|\n",
      "+----------+-----+\n",
      "|         6|    8|\n",
      "|         5|   48|\n",
      "|        15|   10|\n",
      "|         8|    1|\n",
      "|         7|    3|\n",
      "|         0|13249|\n",
      "+----------+-----+\n",
      "\n",
      "+----------+-----+\n",
      "|owner_name|count|\n",
      "+----------+-----+\n",
      "|      HC级| 3912|\n",
      "|      HE级| 1179|\n",
      "+----------+-----+\n",
      "\n",
      "+----------+-----+\n",
      "|owner_code|count|\n",
      "+----------+-----+\n",
      "|         0| 4073|\n",
      "|         5|   38|\n",
      "|         6|    6|\n",
      "|      NULL|  974|\n",
      "+----------+-----+\n",
      "\n",
      "+----------+-----+\n",
      "|owner_name|count|\n",
      "+----------+-----+\n",
      "|      HC级| 3339|\n",
      "|      HE级| 5568|\n",
      "|      NULL|  412|\n",
      "+----------+-----+\n",
      "\n",
      "+----------+-----+\n",
      "|owner_code|count|\n",
      "+----------+-----+\n",
      "|         0| 3146|\n",
      "|         5|   42|\n",
      "|         6|    3|\n",
      "|      NULL| 6128|\n",
      "+----------+-----+\n",
      "\n"
     ]
    }
   ],
   "source": [
    "#查看筛选后的结果\n",
    "media_index1.groupBy('owner_name').count().show()\n",
    "media_index1.groupBy('owner_code').count().show()\n",
    "mediamatch_userevent1.groupBy('owner_name').count().show()\n",
    "mediamatch_userevent1.groupBy('owner_code').count().show()\n",
    "mediamatch_usermsg1.groupBy('owner_name').count().show()\n",
    "mediamatch_usermsg1.groupBy('owner_code').count().show()\n",
    "mmconsume_billevents1.groupBy('owner_name').count().show()\n",
    "mmconsume_billevents1.groupBy('owner_code').count().show()\n",
    "order_index1.groupBy('owner_name').count().show()\n",
    "order_index1.groupBy('owner_code').count().show()"
   ]
  },
  {
   "cell_type": "markdown",
   "id": "7b939edf-72dc-448e-8f0f-aab1a97b2475",
   "metadata": {},
   "source": [
    "### 2.2 筛选主要业务类型"
   ]
  },
  {
   "cell_type": "markdown",
   "id": "ad8ce586-b460-4cad-845e-a327cd1bb52c",
   "metadata": {},
   "source": [
    "#### 在2.1筛选结果table_name1的基础上筛选sm_name\n",
    "#### 只保留sm_name='互动电视','甜果电视','数字电视'.'珠江宽频'"
   ]
  },
  {
   "cell_type": "code",
   "execution_count": 12,
   "id": "a2caa196-0171-49ed-a088-3885254b4099",
   "metadata": {
    "scrolled": true
   },
   "outputs": [
    {
     "name": "stdout",
     "output_type": "stream",
     "text": [
      "+--------+-----+\n",
      "| sm_name|count|\n",
      "+--------+-----+\n",
      "|互动电视|68358|\n",
      "+--------+-----+\n",
      "\n",
      "+------------+-----+\n",
      "|     sm_name|count|\n",
      "+------------+-----+\n",
      "|    互动电视|   69|\n",
      "|模拟有线电视|  177|\n",
      "|    数字电视|  103|\n",
      "|    珠江宽频|   40|\n",
      "|    甜果电视|   19|\n",
      "+------------+-----+\n",
      "\n",
      "+------------+-----+\n",
      "|     sm_name|count|\n",
      "+------------+-----+\n",
      "|    互动电视| 1999|\n",
      "|模拟有线电视| 5745|\n",
      "|    数字电视| 3221|\n",
      "|    珠江宽频| 1642|\n",
      "|    甜果电视|  712|\n",
      "+------------+-----+\n",
      "\n",
      "+--------+-----+\n",
      "| sm_name|count|\n",
      "+--------+-----+\n",
      "|互动电视| 2366|\n",
      "|数字电视| 1375|\n",
      "|珠江宽频|  405|\n",
      "|甜果电视|  945|\n",
      "+--------+-----+\n",
      "\n",
      "+------------+-----+\n",
      "|     sm_name|count|\n",
      "+------------+-----+\n",
      "|    互动电视| 5037|\n",
      "|模拟有线电视|  743|\n",
      "|    数字电视|  830|\n",
      "|    珠江宽频|  927|\n",
      "|    甜果电视| 1370|\n",
      "|        NULL|  412|\n",
      "+------------+-----+\n",
      "\n"
     ]
    }
   ],
   "source": [
    "media_index1.groupBy('sm_name').count().show()\n",
    "mediamatch_userevent1.groupBy('sm_name').count().show()\n",
    "mediamatch_usermsg1.groupBy('sm_name').count().show()\n",
    "mmconsume_billevents1.groupBy('sm_name').count().show()\n",
    "order_index1.groupBy('sm_name').count().show()"
   ]
  },
  {
   "cell_type": "markdown",
   "id": "a414563a-b040-433b-8152-2884e584e4dd",
   "metadata": {},
   "source": [
    "#### 用table_name2表示筛选结果"
   ]
  },
  {
   "cell_type": "code",
   "execution_count": 13,
   "id": "cd5e4e9a-d09f-48a3-b262-654d1663bc69",
   "metadata": {},
   "outputs": [],
   "source": [
    "#根据要求对数据进行筛选\n",
    "media_index2 = media_index1.filter(\"sm_name == '互动电视' or sm_name == '甜果电视' or sm_name == '数字电视' or sm_name == '珠江宽频'\")\n",
    "mediamatch_userevent2 = mediamatch_userevent1.filter(\"sm_name == '互动电视' or sm_name == '甜果电视' or sm_name == '数字电视' or sm_name == '珠江宽频'\")\n",
    "mediamatch_usermsg2 = mediamatch_usermsg1.filter(\"sm_name == '互动电视' or sm_name == '甜果电视' or sm_name == '数字电视' or sm_name == '珠江宽频'\")\n",
    "mmconsume_billevents2 = mmconsume_billevents1.filter(\"sm_name == '互动电视' or sm_name == '甜果电视' or sm_name == '数字电视' or sm_name == '珠江宽频'\")\n",
    "order_index2 = order_index1.filter(\"sm_name == '互动电视' or sm_name == '甜果电视' or sm_name == '数字电视' or sm_name == '珠江宽频'\")"
   ]
  },
  {
   "cell_type": "code",
   "execution_count": 14,
   "id": "e4ea14d4-51a9-4fa0-9971-85976744f7a8",
   "metadata": {},
   "outputs": [
    {
     "name": "stdout",
     "output_type": "stream",
     "text": [
      "+--------+-----+\n",
      "| sm_name|count|\n",
      "+--------+-----+\n",
      "|互动电视|68358|\n",
      "+--------+-----+\n",
      "\n",
      "+--------+-----+\n",
      "| sm_name|count|\n",
      "+--------+-----+\n",
      "|互动电视|   69|\n",
      "|数字电视|  103|\n",
      "|珠江宽频|   40|\n",
      "|甜果电视|   19|\n",
      "+--------+-----+\n",
      "\n",
      "+--------+-----+\n",
      "| sm_name|count|\n",
      "+--------+-----+\n",
      "|互动电视| 1999|\n",
      "|数字电视| 3221|\n",
      "|珠江宽频| 1642|\n",
      "|甜果电视|  712|\n",
      "+--------+-----+\n",
      "\n",
      "+--------+-----+\n",
      "| sm_name|count|\n",
      "+--------+-----+\n",
      "|互动电视| 2366|\n",
      "|数字电视| 1375|\n",
      "|珠江宽频|  405|\n",
      "|甜果电视|  945|\n",
      "+--------+-----+\n",
      "\n",
      "+--------+-----+\n",
      "| sm_name|count|\n",
      "+--------+-----+\n",
      "|互动电视| 5037|\n",
      "|数字电视|  830|\n",
      "|珠江宽频|  927|\n",
      "|甜果电视| 1370|\n",
      "+--------+-----+\n",
      "\n"
     ]
    }
   ],
   "source": [
    "media_index2.groupBy('sm_name').count().show()\n",
    "mediamatch_userevent2.groupBy('sm_name').count().show()\n",
    "mediamatch_usermsg2.groupBy('sm_name').count().show()\n",
    "mmconsume_billevents2.groupBy('sm_name').count().show()\n",
    "order_index2.groupBy('sm_name').count().show()"
   ]
  },
  {
   "cell_type": "markdown",
   "id": "1cd14a8d-cb24-4356-b36c-26f7686b4b39",
   "metadata": {},
   "source": [
    "### 2.3 筛选主要状态用户"
   ]
  },
  {
   "cell_type": "markdown",
   "id": "16c7714c-5969-4e6e-a837-4686dc439d40",
   "metadata": {},
   "source": [
    "#### 查看run_name字段\n",
    "#### 保留run_name=“正常”、“主动暂停”、“主动销号”、“欠费暂停”\n",
    "#### 在table_name2基础上用table_name3表示\n",
    "#### 只有部分table包含run_name信息"
   ]
  },
  {
   "cell_type": "code",
   "execution_count": 15,
   "id": "1d64a7bf-5fea-4c87-99ac-f98d50da75b7",
   "metadata": {},
   "outputs": [
    {
     "name": "stdout",
     "output_type": "stream",
     "text": [
      "+--------+-----+\n",
      "|run_name|count|\n",
      "+--------+-----+\n",
      "|欠费暂停|   32|\n",
      "|    冲正|    2|\n",
      "|主动暂停|   47|\n",
      "|主动销户|   10|\n",
      "|    正常|  140|\n",
      "+--------+-----+\n",
      "\n",
      "+--------+-----+\n",
      "|run_name|count|\n",
      "+--------+-----+\n",
      "|欠费暂停| 1035|\n",
      "|    冲正|   48|\n",
      "|    创建|    1|\n",
      "|主动暂停| 1567|\n",
      "|主动销户|  385|\n",
      "|被动销户|    1|\n",
      "|    正常| 4537|\n",
      "+--------+-----+\n",
      "\n",
      "+--------+-----+\n",
      "|run_name|count|\n",
      "+--------+-----+\n",
      "|欠费暂停|  336|\n",
      "|    冲正|    4|\n",
      "|主动暂停|  389|\n",
      "|主动销户|   68|\n",
      "|    正常| 7367|\n",
      "+--------+-----+\n",
      "\n"
     ]
    }
   ],
   "source": [
    "#media_index2.groupBy('run_name').count().show()\n",
    "mediamatch_userevent2.groupBy('run_name').count().show()\n",
    "mediamatch_usermsg2.groupBy('run_name').count().show()\n",
    "#mmconsume_billevents2.groupBy('run_name').count().show()\n",
    "order_index2.groupBy('run_name').count().show()"
   ]
  },
  {
   "cell_type": "code",
   "execution_count": 16,
   "id": "9599ce84-8224-44bc-81e8-3aae7c564e87",
   "metadata": {},
   "outputs": [],
   "source": [
    "mediamatch_userevent3 = mediamatch_userevent2.filter(\"run_name == '正常' or run_name == '主动暂停' or run_name == '主动销户' or run_name == '欠费暂停'\")\n",
    "mediamatch_usermsg3 = mediamatch_usermsg2.filter(\"run_name == '正常' or run_name == '主动暂停' or run_name == '主动销户' or run_name == '欠费暂停'\")\n",
    "order_index3 = order_index2.filter(\"run_name == '正常' or run_name == '主动暂停' or run_name == '主动销户' or run_name == '欠费暂停'\")"
   ]
  },
  {
   "cell_type": "code",
   "execution_count": 17,
   "id": "59a4daf7-4b3a-414e-8750-21ec7bdd502d",
   "metadata": {},
   "outputs": [
    {
     "name": "stdout",
     "output_type": "stream",
     "text": [
      "+--------+-----+\n",
      "|run_name|count|\n",
      "+--------+-----+\n",
      "|欠费暂停|   32|\n",
      "|主动暂停|   47|\n",
      "|主动销户|   10|\n",
      "|    正常|  140|\n",
      "+--------+-----+\n",
      "\n",
      "+--------+-----+\n",
      "|run_name|count|\n",
      "+--------+-----+\n",
      "|欠费暂停| 1035|\n",
      "|主动暂停| 1567|\n",
      "|主动销户|  385|\n",
      "|    正常| 4537|\n",
      "+--------+-----+\n",
      "\n",
      "+--------+-----+\n",
      "|run_name|count|\n",
      "+--------+-----+\n",
      "|欠费暂停|  336|\n",
      "|主动暂停|  389|\n",
      "|主动销户|   68|\n",
      "|    正常| 7367|\n",
      "+--------+-----+\n",
      "\n"
     ]
    }
   ],
   "source": [
    "mediamatch_userevent3.groupBy('run_name').count().show()\n",
    "mediamatch_usermsg3.groupBy('run_name').count().show()\n",
    "order_index3.groupBy('run_name').count().show()"
   ]
  },
  {
   "cell_type": "markdown",
   "id": "703bb1e4-99ce-4180-90af-a0500700488a",
   "metadata": {},
   "source": [
    "### 2.4 过滤异常收视数据，查看duration字段\n",
    "#### 只有media_index含有duratio字段\n",
    "#### 过滤异常收视数据：观看时长大于6小时(360000)或小于10秒(10000)\n",
    "#### 筛选结果media_index3表示"
   ]
  },
  {
   "cell_type": "code",
   "execution_count": 18,
   "id": "0834a10d-290d-40fe-aabc-ab0b712655b3",
   "metadata": {},
   "outputs": [
    {
     "name": "stdout",
     "output_type": "stream",
     "text": [
      "+--------+-----+\n",
      "|duration|count|\n",
      "+--------+-----+\n",
      "|  113000|   89|\n",
      "| 4059000|    2|\n",
      "| 2717000|   12|\n",
      "| 2523000|    5|\n",
      "|  702000|   17|\n",
      "| 2019000|    7|\n",
      "|  135000|   62|\n",
      "|  499000|   14|\n",
      "| 1078000|   13|\n",
      "|  419000|   14|\n",
      "|  271000|   33|\n",
      "| 1888000|    6|\n",
      "| 5005000|    1|\n",
      "|  213000|   37|\n",
      "|   85000|  113|\n",
      "|  450000|   28|\n",
      "| 1169000|   15|\n",
      "| 1022000|   12|\n",
      "|  441000|   22|\n",
      "|  552000|   23|\n",
      "+--------+-----+\n",
      "only showing top 20 rows\n",
      "\n",
      "+-------+------------------+\n",
      "|summary|          duration|\n",
      "+-------+------------------+\n",
      "|  count|             68358|\n",
      "|   mean| 984202.8145937565|\n",
      "| stddev|1316541.9310468643|\n",
      "|    min|                 0|\n",
      "|    max|          17863000|\n",
      "+-------+------------------+\n",
      "\n",
      "+--------+\n",
      "|duration|\n",
      "+--------+\n",
      "|       0|\n",
      "|    1000|\n",
      "|    2000|\n",
      "|    3000|\n",
      "|    4000|\n",
      "|    5000|\n",
      "|    6000|\n",
      "|    7000|\n",
      "|    8000|\n",
      "|    9000|\n",
      "|   10000|\n",
      "|   11000|\n",
      "|   12000|\n",
      "|   13000|\n",
      "|   14000|\n",
      "|   15000|\n",
      "|   16000|\n",
      "|   17000|\n",
      "|   18000|\n",
      "|   19000|\n",
      "+--------+\n",
      "only showing top 20 rows\n",
      "\n",
      "+--------+\n",
      "|duration|\n",
      "+--------+\n",
      "|17863000|\n",
      "|17533000|\n",
      "|16592000|\n",
      "|16484000|\n",
      "|16284000|\n",
      "|16184000|\n",
      "|16155000|\n",
      "|15937000|\n",
      "|15906000|\n",
      "|15865000|\n",
      "|15823000|\n",
      "|15449000|\n",
      "|14823000|\n",
      "|14726000|\n",
      "|14556000|\n",
      "|14391000|\n",
      "|14221000|\n",
      "|14199000|\n",
      "|13930000|\n",
      "|13769000|\n",
      "+--------+\n",
      "only showing top 20 rows\n",
      "\n"
     ]
    }
   ],
   "source": [
    "media_index2.groupBy('duration').count().show()\n",
    "media_index2.select(\"duration\").describe().show()\n",
    "media_index2.select(\"duration\").distinct().orderBy('duration',ascending=True).show()\n",
    "media_index2.select(\"duration\").distinct().orderBy('duration',ascending=False).show()\n",
    "#distinct()用来去重"
   ]
  },
  {
   "cell_type": "code",
   "execution_count": 19,
   "id": "216b7f24-fe53-4c73-9ff1-6b782e1fad3f",
   "metadata": {},
   "outputs": [],
   "source": [
    "media_index3 = media_index2.filter(\"duration > 10000 and duration < 21600000\")"
   ]
  },
  {
   "cell_type": "code",
   "execution_count": 20,
   "id": "e6a8825a-a783-49f6-bf46-9baa837422b5",
   "metadata": {},
   "outputs": [
    {
     "name": "stdout",
     "output_type": "stream",
     "text": [
      "+--------+-----+\n",
      "|duration|count|\n",
      "+--------+-----+\n",
      "|  113000|   89|\n",
      "| 4059000|    2|\n",
      "| 2717000|   12|\n",
      "| 2523000|    5|\n",
      "|  702000|   17|\n",
      "| 2019000|    7|\n",
      "|  135000|   62|\n",
      "|  499000|   14|\n",
      "| 1078000|   13|\n",
      "|  419000|   14|\n",
      "|  271000|   33|\n",
      "| 1888000|    6|\n",
      "| 5005000|    1|\n",
      "|  213000|   37|\n",
      "|   85000|  113|\n",
      "|  450000|   28|\n",
      "| 1169000|   15|\n",
      "| 1022000|   12|\n",
      "|  441000|   22|\n",
      "|  552000|   23|\n",
      "+--------+-----+\n",
      "only showing top 20 rows\n",
      "\n",
      "+-------+------------------+\n",
      "|summary|          duration|\n",
      "+-------+------------------+\n",
      "|  count|             67771|\n",
      "|   mean| 992694.9432648183|\n",
      "| stddev|1319051.6843821446|\n",
      "|    min|             11000|\n",
      "|    max|          17863000|\n",
      "+-------+------------------+\n",
      "\n",
      "+--------+\n",
      "|duration|\n",
      "+--------+\n",
      "|   11000|\n",
      "|   12000|\n",
      "|   13000|\n",
      "|   14000|\n",
      "|   15000|\n",
      "|   16000|\n",
      "|   17000|\n",
      "|   18000|\n",
      "|   19000|\n",
      "|   20000|\n",
      "|   21000|\n",
      "|   22000|\n",
      "|   23000|\n",
      "|   24000|\n",
      "|   25000|\n",
      "|   26000|\n",
      "|   27000|\n",
      "|   28000|\n",
      "|   29000|\n",
      "|   30000|\n",
      "+--------+\n",
      "only showing top 20 rows\n",
      "\n",
      "+--------+\n",
      "|duration|\n",
      "+--------+\n",
      "|17863000|\n",
      "|17533000|\n",
      "|16592000|\n",
      "|16484000|\n",
      "|16284000|\n",
      "|16184000|\n",
      "|16155000|\n",
      "|15937000|\n",
      "|15906000|\n",
      "|15865000|\n",
      "|15823000|\n",
      "|15449000|\n",
      "|14823000|\n",
      "|14726000|\n",
      "|14556000|\n",
      "|14391000|\n",
      "|14221000|\n",
      "|14199000|\n",
      "|13930000|\n",
      "|13769000|\n",
      "+--------+\n",
      "only showing top 20 rows\n",
      "\n"
     ]
    }
   ],
   "source": [
    "media_index3.groupBy('duration').count().show()\n",
    "media_index3.select(\"duration\").describe().show()\n",
    "media_index3.select(\"duration\").distinct().orderBy('duration',ascending=True).show()\n",
    "media_index3.select(\"duration\").distinct().orderBy('duration',ascending=False).show()"
   ]
  },
  {
   "cell_type": "markdown",
   "id": "d33fea85-f90c-4333-99c0-5ac1548d2968",
   "metadata": {},
   "source": [
    "### 2.5 保存数据到DWD层"
   ]
  },
  {
   "cell_type": "code",
   "execution_count": 21,
   "id": "d91f7d17-6468-4ed1-9d0c-c3b4854b206c",
   "metadata": {},
   "outputs": [
    {
     "name": "stdout",
     "output_type": "stream",
     "text": [
      "+---------+\n",
      "|namespace|\n",
      "+---------+\n",
      "|  default|\n",
      "|      dwd|\n",
      "|      dws|\n",
      "|      ods|\n",
      "+---------+\n",
      "\n",
      "+---------+--------------------+-----------+\n",
      "|namespace|           tableName|isTemporary|\n",
      "+---------+--------------------+-----------+\n",
      "|      dwd|         media_index|      false|\n",
      "|      dwd|mediamatch_userevent|      false|\n",
      "|      dwd|  mediamatch_usermsg|      false|\n",
      "|      dwd|mmconsume_billevents|      false|\n",
      "|      dwd|         order_index|      false|\n",
      "+---------+--------------------+-----------+\n",
      "\n"
     ]
    }
   ],
   "source": [
    "#创建DWD数据库\n",
    "spark.sql('create database if not exists DWD;')\n",
    "#保存数据\n",
    "media_index3.write.mode('overwrite').saveAsTable(\"DWD.media_index\")\n",
    "mediamatch_userevent3.write.mode('overwrite').saveAsTable(\"DWD.mediamatch_userevent\")\n",
    "mediamatch_usermsg3.write.mode('overwrite').saveAsTable(\"DWD.mediamatch_usermsg\")\n",
    "mmconsume_billevents2.write.mode('overwrite').saveAsTable(\"DWD.mmconsume_billevents\")\n",
    "order_index3.write.mode('overwrite').saveAsTable(\"DWD.order_index\")\n",
    "#查看数据table\n",
    "spark.sql('show databases;').show()\n",
    "spark.sql('use DWD;')\n",
    "spark.sql('show tables;').show()"
   ]
  },
  {
   "cell_type": "markdown",
   "id": "aac14826-fa95-409b-8c62-332d3f7a738f",
   "metadata": {},
   "source": [
    "# 任务3：对用户数据贴上标签，将结果整合成用户画像并储存至DWS层"
   ]
  },
  {
   "cell_type": "code",
   "execution_count": 22,
   "id": "6750f190-eda0-4cfa-9b78-b3aeb56acfac",
   "metadata": {},
   "outputs": [],
   "source": [
    "#读取DWD数据\n",
    "media_index = spark.read.table('DWD.media_index')\n",
    "mediamatch_userevent = spark.read.table('DWD.mediamatch_userevent')\n",
    "mediamatch_usermsg = spark.read.table('DWD.mediamatch_usermsg')\n",
    "mmconsume_billevents = spark.read.table('DWD.mmconsume_billevents')\n",
    "order_index = spark.read.table('DWD.order_index')"
   ]
  },
  {
   "cell_type": "markdown",
   "id": "4e4e9cd5-023b-456a-9f5c-3c6f3194a949",
   "metadata": {},
   "source": [
    "### 3.1 用户依赖度（用户日均观看时长）\n",
    "### 输出NeedLabel"
   ]
  },
  {
   "cell_type": "code",
   "execution_count": 23,
   "id": "ede6328d-182c-4a75-963d-eed0725c7c47",
   "metadata": {
    "scrolled": true
   },
   "outputs": [
    {
     "name": "stdout",
     "output_type": "stream",
     "text": [
      "+--------------+\n",
      "|      end_time|\n",
      "+--------------+\n",
      "|2018/5/10 0:55|\n",
      "|2018/5/10 0:43|\n",
      "|2018/5/10 1:05|\n",
      "|2018/5/10 0:40|\n",
      "|2018/5/10 0:30|\n",
      "+--------------+\n",
      "only showing top 5 rows\n",
      "\n",
      "+-------------+\n",
      "|     end_time|\n",
      "+-------------+\n",
      "|2018/7/9 9:56|\n",
      "|2018/7/9 9:56|\n",
      "|2018/7/9 9:55|\n",
      "|2018/7/9 9:55|\n",
      "|2018/7/9 9:55|\n",
      "+-------------+\n",
      "only showing top 5 rows\n",
      "\n",
      "+--------+--------------------+\n",
      "|phone_no|    DayAvgTVLookTime|\n",
      "+--------+--------------------+\n",
      "| 2048353|3.271604938271605E-4|\n",
      "| 2004595|0.001546296296296...|\n",
      "| 2039526|0.004996913580246913|\n",
      "| 2047858|0.005901234567901235|\n",
      "| 2049976|0.008043209876543209|\n",
      "+--------+--------------------+\n",
      "only showing top 5 rows\n",
      "\n",
      "+--------+-----------------+\n",
      "|phone_no| DayAvgTVLookTime|\n",
      "+--------+-----------------+\n",
      "| 2045584| 5.44308024691358|\n",
      "| 2020364|5.387768518518519|\n",
      "| 2038740|5.279188271604938|\n",
      "| 2003507|5.152728395061728|\n",
      "| 2028383|4.907515432098766|\n",
      "+--------+-----------------+\n",
      "only showing top 5 rows\n",
      "\n",
      "+--------+--------------------+---------+\n",
      "|phone_no|    DayAvgTVLookTime|NeedLabel|\n",
      "+--------+--------------------+---------+\n",
      "| 2048353|3.271604938271605E-4|  6级依赖|\n",
      "| 2004595|0.001546296296296...|  6级依赖|\n",
      "| 2039526|0.004996913580246913|  6级依赖|\n",
      "| 2047858|0.005901234567901235|  6级依赖|\n",
      "| 2049976|0.008043209876543209|  6级依赖|\n",
      "+--------+--------------------+---------+\n",
      "only showing top 5 rows\n",
      "\n",
      "+--------+-----------------+---------+\n",
      "|phone_no| DayAvgTVLookTime|NeedLabel|\n",
      "+--------+-----------------+---------+\n",
      "| 2045584| 5.44308024691358|  1级依赖|\n",
      "| 2020364|5.387768518518519|  1级依赖|\n",
      "| 2038740|5.279188271604938|  1级依赖|\n",
      "| 2003507|5.152728395061728|  1级依赖|\n",
      "| 2028383|4.907515432098766|  2级依赖|\n",
      "+--------+-----------------+---------+\n",
      "only showing top 5 rows\n",
      "\n"
     ]
    }
   ],
   "source": [
    "from pyspark.sql.types import *\n",
    "from pyspark.sql.functions import *\n",
    "#查看用户观看时间\n",
    "media_index.select('end_time').orderBy('origin_time').show(5)\n",
    "media_index.select('end_time').orderBy('end_time',ascending=False).show(5)\n",
    "#统计用户5-7日平均观看时长\n",
    "TVNeed = media_index.select('phone_no','duration').groupBy('phone_no').agg((sum('duration')/1000/60/60/90).alias('DayAvgTVLookTime'))\n",
    "TVNeed.orderBy('DayAvgTVLookTime').show(5)\n",
    "TVNeed.orderBy('DayAvgTVLookTime',ascending=False).show(5)\n",
    "#定义依赖度函数\n",
    "def needLabel(DayAvgTVLookTime):\n",
    "    if(DayAvgTVLookTime>=5):\n",
    "        return '1级依赖'\n",
    "    elif(DayAvgTVLookTime>=4):\n",
    "        return '2级依赖'\n",
    "    elif(DayAvgTVLookTime>=3):\n",
    "        return '3级依赖'\n",
    "    elif(DayAvgTVLookTime>=2):\n",
    "        return '4级依赖'\n",
    "    elif(DayAvgTVLookTime>=1):\n",
    "        return '5级依赖'\n",
    "    else:\n",
    "        return '6级依赖'\n",
    "#定义数据类型为String\n",
    "UDPNeedLabel = udf(needLabel,StringType())\n",
    "NeedLabel = TVNeed.withColumn('NeedLabel',UDPNeedLabel('DayAvgTVLookTime')).select('phone_no','DayAvgTVLookTime','NeedLabel')\n",
    "NeedLabel.orderBy('DayAvgTVLookTime').show(5)\n",
    "NeedLabel.orderBy('DayAvgTVLookTime',ascending=False).show(5)"
   ]
  },
  {
   "cell_type": "markdown",
   "id": "9da42c36-8811-4d2e-93c6-7e76e557b720",
   "metadata": {},
   "source": [
    "### 3.2 消费水平（用户日均消费金额）\n",
    "### 输出ConsumeLabel"
   ]
  },
  {
   "cell_type": "code",
   "execution_count": 24,
   "id": "0a8aa93b-bd90-4ed3-ad1b-ed1d78c77be0",
   "metadata": {},
   "outputs": [
    {
     "name": "stdout",
     "output_type": "stream",
     "text": [
      "+-------------+\n",
      "|   year_month|\n",
      "+-------------+\n",
      "|2018/1/1 0:00|\n",
      "|2018/1/1 0:00|\n",
      "|2018/1/1 0:00|\n",
      "|2018/1/1 0:00|\n",
      "|2018/1/1 0:00|\n",
      "+-------------+\n",
      "only showing top 5 rows\n",
      "\n",
      "+-------------+\n",
      "|   year_month|\n",
      "+-------------+\n",
      "|2018/7/1 0:00|\n",
      "|2018/7/1 0:00|\n",
      "|2018/7/1 0:00|\n",
      "|2018/7/1 0:00|\n",
      "|2018/7/1 0:00|\n",
      "+-------------+\n",
      "only showing top 5 rows\n",
      "\n",
      "+--------+-------------------+\n",
      "|phone_no|             AvgPay|\n",
      "+--------+-------------------+\n",
      "| 2040996|               -0.4|\n",
      "| 2027940|-0.2857142857142857|\n",
      "| 2045538|  4.431034482758621|\n",
      "| 2017316|  4.636363636363637|\n",
      "| 2017496|                5.0|\n",
      "+--------+-------------------+\n",
      "only showing top 5 rows\n",
      "\n",
      "+--------+------------------+\n",
      "|phone_no|            AvgPay|\n",
      "+--------+------------------+\n",
      "| 2001520|              60.0|\n",
      "| 2009411|              60.0|\n",
      "| 2041482|56.714285714285715|\n",
      "| 2009066|              55.0|\n",
      "| 2004503|              55.0|\n",
      "+--------+------------------+\n",
      "only showing top 5 rows\n",
      "\n",
      "+--------+-------------------+------------+\n",
      "|phone_no|             AvgPay|ConsumeLabel|\n",
      "+--------+-------------------+------------+\n",
      "| 2040996|               -0.4|     6级用户|\n",
      "| 2027940|-0.2857142857142857|     6级用户|\n",
      "| 2045538|  4.431034482758621|     6级用户|\n",
      "| 2017316|  4.636363636363637|     6级用户|\n",
      "| 2017496|                5.0|     6级用户|\n",
      "+--------+-------------------+------------+\n",
      "only showing top 5 rows\n",
      "\n",
      "+--------+------------------+------------+\n",
      "|phone_no|            AvgPay|ConsumeLabel|\n",
      "+--------+------------------+------------+\n",
      "| 2001520|              60.0|     1级用户|\n",
      "| 2009411|              60.0|     1级用户|\n",
      "| 2041482|56.714285714285715|     1级用户|\n",
      "| 2009066|              55.0|     1级用户|\n",
      "| 2004503|              55.0|     1级用户|\n",
      "+--------+------------------+------------+\n",
      "only showing top 5 rows\n",
      "\n"
     ]
    }
   ],
   "source": [
    "#查看用户账单时间，确定时间范围\n",
    "mmconsume_billevents.select('year_month').orderBy('year_month').show(5)\n",
    "mmconsume_billevents.select('year_month').orderBy('year_month',ascending=False).show(5)\n",
    "#统计5-7月日均消费金额\n",
    "ConsumeLevel = mmconsume_billevents.filter(\"year_month >= '2018-05-01'\").groupBy('phone_no').agg((mean(col('should_pay')-col('favour_fee'))).alias('AvgPay'))\n",
    "ConsumeLevel.orderBy('AvgPay').show(5)\n",
    "ConsumeLevel.orderBy('AvgPay',ascending=False).show(5)\n",
    "##定义消费水平函数\n",
    "def consumeLabel(AvgPay):\n",
    "    if(AvgPay >= 50):\n",
    "        return '1级用户'\n",
    "    elif(AvgPay >= 40):\n",
    "        return '2级用户'\n",
    "    elif(AvgPay >= 30):\n",
    "        return '3级用户'\n",
    "    elif(AvgPay >= 20):\n",
    "        return '4级用户'\n",
    "    elif(AvgPay >= 10):\n",
    "        return '5级用户'\n",
    "    else:\n",
    "        return '6级用户'\n",
    "#定义标签为String数据类型\n",
    "UDFconsumeLAbel = udf(consumeLabel,StringType())\n",
    "ConsumeLabel = ConsumeLevel.withColumn('ConsumeLabel',UDFconsumeLAbel('AvgPay')).select('phone_no','AvgPay','ConsumeLabel')\n",
    "ConsumeLabel.orderBy('AvgPay').show(5)\n",
    "ConsumeLabel.orderBy('AvgPay',ascending=False).show(5)"
   ]
  },
  {
   "cell_type": "markdown",
   "id": "8ba44f30-a8bf-455b-add2-d3c44a756fed",
   "metadata": {},
   "source": [
    "### 3.3 入网程度（用户入网时间）\n",
    "### 输出YearLabel"
   ]
  },
  {
   "cell_type": "markdown",
   "id": "d209398a-5ee4-4047-9244-5380f1cbdbe7",
   "metadata": {},
   "source": [
    "#### months_between() ——函数内日期格式中年月日应用 ‘-’ 分隔，不能用 ‘/’ 分隔，否则函数只会输出 Null\n",
    "#### from_unixtime(unix_timestamp()) ——输出当前电脑时间，精确到秒\n",
    "#### months_between(date1,date1) ——输出月份间隔"
   ]
  },
  {
   "cell_type": "code",
   "execution_count": 25,
   "id": "0abe2457-32bc-4e9f-b12b-ea120a30a90d",
   "metadata": {
    "scrolled": true
   },
   "outputs": [
    {
     "name": "stdout",
     "output_type": "stream",
     "text": [
      "+-------------------+\n",
      "|          open_time|\n",
      "+-------------------+\n",
      "|2001-04-30 00:00:00|\n",
      "|2001-10-18 00:00:00|\n",
      "|2002-07-31 00:00:00|\n",
      "|2002-12-27 00:00:00|\n",
      "|2003-04-22 00:00:00|\n",
      "+-------------------+\n",
      "only showing top 5 rows\n",
      "\n",
      "+--------+-----------------+\n",
      "|phone_no|             Year|\n",
      "+--------+-----------------+\n",
      "| 2012220|9.950293925833334|\n",
      "| 2012045|9.961321030833334|\n",
      "| 2012277|9.977212981666666|\n",
      "| 2012192|9.977278319166667|\n",
      "| 2012280|9.982311174166666|\n",
      "+--------+-----------------+\n",
      "only showing top 5 rows\n",
      "\n",
      "+--------+------------------+\n",
      "|phone_no|              Year|\n",
      "+--------+------------------+\n",
      "| 2023730|22.948867700833333|\n",
      "| 2016569|      22.481125765|\n",
      "| 2016602|21.696179529166667|\n",
      "| 2016579|       21.29026555|\n",
      "| 2023924|     20.9703730775|\n",
      "+--------+------------------+\n",
      "only showing top 5 rows\n",
      "\n",
      "+--------+-----------------+---------+\n",
      "|phone_no|             Year|YearLAbel|\n",
      "+--------+-----------------+---------+\n",
      "| 2012220|9.950293925833334|骨灰等级6|\n",
      "| 2012045|9.961321030833334|骨灰等级6|\n",
      "| 2012277|9.977212981666666|骨灰等级6|\n",
      "| 2012192|9.977278319166667|骨灰等级6|\n",
      "| 2012280|9.982311174166666|骨灰等级6|\n",
      "+--------+-----------------+---------+\n",
      "only showing top 5 rows\n",
      "\n",
      "+--------+------------------+---------+\n",
      "|phone_no|              Year|YearLAbel|\n",
      "+--------+------------------+---------+\n",
      "| 2023730|22.948867700833333|骨灰等级1|\n",
      "| 2016569|      22.481125765|骨灰等级1|\n",
      "| 2016602|21.696179529166667|骨灰等级2|\n",
      "| 2016579|       21.29026555|骨灰等级2|\n",
      "| 2023924|     20.9703730775|骨灰等级2|\n",
      "+--------+------------------+---------+\n",
      "only showing top 5 rows\n",
      "\n"
     ]
    }
   ],
   "source": [
    "#查看用户入网时间\n",
    "mediamatch_usermsg.select('open_time').orderBy('open_time').show(5)\n",
    "#统计用户入网时间\n",
    "Year = mediamatch_usermsg.select(\"phone_no\",((months_between(from_unixtime(unix_timestamp()),'open_time')/12)).alias(\"Year\"))\n",
    "Year.orderBy(\"Year\").show(5)\n",
    "Year.orderBy(\"Year\",ascending=False).show(5)\n",
    "#定义入网程度函数\n",
    "def yearLabel(Year):\n",
    "    if(Year <= 10):\n",
    "        return '骨灰等级6'\n",
    "    elif(Year <=13):\n",
    "        return '骨灰等级5'\n",
    "    elif(Year <=16):\n",
    "        return '骨灰等级4'\n",
    "    elif(Year <=19):\n",
    "        return '骨灰等级3'\n",
    "    elif(Year <=22):\n",
    "        return '骨灰等级2'\n",
    "    else:\n",
    "        return '骨灰等级1'\n",
    "#定义为String数据类型\n",
    "UDFYearLabel = udf(yearLabel,StringType())\n",
    "YearLabel = Year.withColumn('YearLAbel',UDFYearLabel('Year')).select('phone_no','Year','YearLAbel')\n",
    "YearLabel.orderBy(\"Year\").show(5)\n",
    "YearLabel.orderBy(\"Year\",ascending=False).show(5)\n"
   ]
  },
  {
   "cell_type": "markdown",
   "id": "d09bff44-b553-419f-a188-777311482aa9",
   "metadata": {},
   "source": [
    "### 3.4消费内容\n",
    "### 输出BillLabel"
   ]
  },
  {
   "cell_type": "code",
   "execution_count": 26,
   "id": "eb213785-b43f-4c60-b65c-065ffb2b803c",
   "metadata": {
    "scrolled": true
   },
   "outputs": [
    {
     "name": "stdout",
     "output_type": "stream",
     "text": [
      "+--------+-----+\n",
      "|fee_code|count|\n",
      "+--------+-----+\n",
      "|      0H|  682|\n",
      "|      0K|  381|\n",
      "|      0D|  666|\n",
      "|      0X|  277|\n",
      "|      0B| 1688|\n",
      "|      0W|    2|\n",
      "|      0T|  516|\n",
      "|      0L|   22|\n",
      "|      0Y|  857|\n",
      "+--------+-----+\n",
      "\n",
      "+--------+--------+---------+\n",
      "|phone_no|fee_code|BillLabel|\n",
      "+--------+--------+---------+\n",
      "| 2030386|      0Y|     直播|\n",
      "| 2017488|      0H|     回看|\n",
      "| 2022200|      0D|     点播|\n",
      "| 2010025|      0B|     直播|\n",
      "| 2020450|      0B|     直播|\n",
      "+--------+--------+---------+\n",
      "only showing top 5 rows\n",
      "\n"
     ]
    }
   ],
   "source": [
    "#查看用户消费内容fee_code\n",
    "mmconsume_billevents.groupBy('fee_code').count().show()\n",
    "#自定义UDF函数\n",
    "def billLabel(fee_code):\n",
    "    if(fee_code == '0J' or fee_code == '0B' or fee_code == '0Y'):\n",
    "        return '直播'\n",
    "    elif(fee_code == '0X'):\n",
    "        return '应用'  \n",
    "    elif(fee_code == '0T'):\n",
    "        return '付费频道'  \n",
    "    elif(fee_code == '0D'):\n",
    "        return '点播'  \n",
    "    elif(fee_code == '0H'):\n",
    "        return '回看'\n",
    "    else:\n",
    "        return '宽带'\n",
    "#统计用户消费内容\n",
    "UDFbillLabel = udf(billLabel,StringType())\n",
    "BillLabel = mmconsume_billevents.withColumn('BillLabel',UDFbillLabel('fee_code')).select('phone_no','fee_code','BillLabel')\n",
    "BillLabel.show(5)"
   ]
  },
  {
   "cell_type": "markdown",
   "id": "fcc84b59-0466-4ce2-b2d2-017ee35da2da",
   "metadata": {},
   "source": [
    "### 将所有Label合并，形成用户画像"
   ]
  },
  {
   "cell_type": "code",
   "execution_count": 27,
   "id": "57125341-5a27-42cb-8ab8-5484332b81a1",
   "metadata": {},
   "outputs": [
    {
     "name": "stdout",
     "output_type": "stream",
     "text": [
      "+--------+---------+------------+---------+---------+\n",
      "|phone_no|NeedLabel|ConsumeLabel|YearLabel|BillLAbel|\n",
      "+--------+---------+------------+---------+---------+\n",
      "| 2000121|  3级依赖|     4级用户|骨灰等级5|     直播|\n",
      "| 2000126|  5级依赖|     5级用户|骨灰等级5|     回看|\n",
      "| 2000126|  5级依赖|     5级用户|骨灰等级5|     直播|\n",
      "| 2000126|  5级依赖|     5级用户|骨灰等级5|     点播|\n",
      "| 2000638|  3级依赖|     4级用户|骨灰等级5|     直播|\n",
      "| 2000812|  6级依赖|     4级用户|骨灰等级5|     直播|\n",
      "| 2001102|  6级依赖|     4级用户|骨灰等级5|     直播|\n",
      "| 2001498|  3级依赖|     4级用户|骨灰等级5|     直播|\n",
      "| 2001789|  6级依赖|     5级用户|骨灰等级5|     回看|\n",
      "| 2001789|  6级依赖|     5级用户|骨灰等级5|     点播|\n",
      "| 2001789|  6级依赖|     5级用户|骨灰等级5|     直播|\n",
      "| 2002504|  5级依赖|     5级用户|骨灰等级5|     回看|\n",
      "| 2002504|  5级依赖|     5级用户|骨灰等级5|     点播|\n",
      "| 2002504|  5级依赖|     5级用户|骨灰等级5|     直播|\n",
      "| 2002651|  4级依赖|     4级用户|骨灰等级5|     直播|\n",
      "| 2002838|  6级依赖|     6级用户|骨灰等级5|     回看|\n",
      "| 2002838|  6级依赖|     6级用户|骨灰等级5| 付费频道|\n",
      "| 2002838|  6级依赖|     6级用户|骨灰等级5|     直播|\n",
      "| 2002992|  5级依赖|     4级用户|骨灰等级5|     点播|\n",
      "| 2002992|  5级依赖|     4级用户|骨灰等级5|     回看|\n",
      "+--------+---------+------------+---------+---------+\n",
      "only showing top 20 rows\n",
      "\n"
     ]
    }
   ],
   "source": [
    "Persona = NeedLabel.join(ConsumeLabel,ConsumeLabel.phone_no == NeedLabel.phone_no).drop(ConsumeLabel.phone_no)\n",
    "Persona = Persona.join(YearLabel,YearLabel.phone_no == Persona.phone_no).drop(YearLabel.phone_no)\n",
    "Persona = Persona.join(BillLabel,BillLabel.phone_no == Persona.phone_no).drop(BillLabel.phone_no)\n",
    "Persona = Persona.select(NeedLabel.phone_no,'NeedLabel','ConsumeLabel','YearLabel','BillLAbel').distinct().orderBy('phone_no')\n",
    "Persona.show()"
   ]
  },
  {
   "cell_type": "markdown",
   "id": "c4e7fb0e-1578-40c5-8e67-12fd1362493f",
   "metadata": {},
   "source": [
    "### 3.5 将用户画像存入DWS层 "
   ]
  },
  {
   "cell_type": "code",
   "execution_count": 28,
   "id": "1e7321fd-9110-41e5-9a0b-63a4632d2c4a",
   "metadata": {},
   "outputs": [
    {
     "name": "stdout",
     "output_type": "stream",
     "text": [
      "+---------+\n",
      "|namespace|\n",
      "+---------+\n",
      "|  default|\n",
      "|      dwd|\n",
      "|      dws|\n",
      "|      ods|\n",
      "+---------+\n",
      "\n",
      "+---------+---------+-----------+\n",
      "|namespace|tableName|isTemporary|\n",
      "+---------+---------+-----------+\n",
      "|      dws|  persona|      false|\n",
      "+---------+---------+-----------+\n",
      "\n"
     ]
    }
   ],
   "source": [
    "#创建DWD数据库\n",
    "spark.sql('create database if not exists DWS;')\n",
    "#保存数据\n",
    "Persona.write.mode('overwrite').saveAsTable(\"DWs.Persona\")\n",
    "#查看数据table\n",
    "spark.sql('show databases;').show()\n",
    "spark.sql('use DWs;')\n",
    "spark.sql('show tables;').show()"
   ]
  },
  {
   "cell_type": "code",
   "execution_count": 29,
   "id": "4714d53d-0dbb-47dd-a01b-98404eb1fdcf",
   "metadata": {},
   "outputs": [
    {
     "name": "stdout",
     "output_type": "stream",
     "text": [
      "+--------+---------+------------+---------+---------+\n",
      "|phone_no|NeedLabel|ConsumeLabel|YearLabel|BillLAbel|\n",
      "+--------+---------+------------+---------+---------+\n",
      "| 2000121|  3级依赖|     4级用户|骨灰等级5|     直播|\n",
      "| 2000126|  5级依赖|     5级用户|骨灰等级5|     回看|\n",
      "| 2000126|  5级依赖|     5级用户|骨灰等级5|     直播|\n",
      "| 2000126|  5级依赖|     5级用户|骨灰等级5|     点播|\n",
      "| 2000638|  3级依赖|     4级用户|骨灰等级5|     直播|\n",
      "| 2000812|  6级依赖|     4级用户|骨灰等级5|     直播|\n",
      "| 2001102|  6级依赖|     4级用户|骨灰等级5|     直播|\n",
      "| 2001498|  3级依赖|     4级用户|骨灰等级5|     直播|\n",
      "| 2001789|  6级依赖|     5级用户|骨灰等级5|     回看|\n",
      "| 2001789|  6级依赖|     5级用户|骨灰等级5|     点播|\n",
      "| 2001789|  6级依赖|     5级用户|骨灰等级5|     直播|\n",
      "| 2002504|  5级依赖|     5级用户|骨灰等级5|     回看|\n",
      "| 2002504|  5级依赖|     5级用户|骨灰等级5|     点播|\n",
      "| 2002504|  5级依赖|     5级用户|骨灰等级5|     直播|\n",
      "| 2002651|  4级依赖|     4级用户|骨灰等级5|     直播|\n",
      "| 2002838|  6级依赖|     6级用户|骨灰等级5|     回看|\n",
      "| 2002838|  6级依赖|     6级用户|骨灰等级5| 付费频道|\n",
      "| 2002838|  6级依赖|     6级用户|骨灰等级5|     直播|\n",
      "| 2002992|  5级依赖|     4级用户|骨灰等级5|     点播|\n",
      "| 2002992|  5级依赖|     4级用户|骨灰等级5|     回看|\n",
      "+--------+---------+------------+---------+---------+\n",
      "only showing top 20 rows\n",
      "\n"
     ]
    }
   ],
   "source": [
    "persona = spark.read.table('DWS.persona')\n",
    "persona.show()"
   ]
  }
 ],
 "metadata": {
  "kernelspec": {
   "display_name": "Python 3 (ipykernel)",
   "language": "python",
   "name": "python3"
  },
  "language_info": {
   "codemirror_mode": {
    "name": "ipython",
    "version": 3
   },
   "file_extension": ".py",
   "mimetype": "text/x-python",
   "name": "python",
   "nbconvert_exporter": "python",
   "pygments_lexer": "ipython3",
   "version": "3.8.19"
  }
 },
 "nbformat": 4,
 "nbformat_minor": 5
}
